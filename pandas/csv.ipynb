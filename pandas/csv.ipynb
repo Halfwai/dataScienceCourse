{
 "cells": [
  {
   "cell_type": "code",
   "execution_count": 5,
   "metadata": {},
   "outputs": [
    {
     "name": "stdout",
     "output_type": "stream",
     "text": [
      "Requirement already satisfied: xlrd in /g/coding/.venv/lib/python3.9/site-packages (2.0.1)\n",
      "Requirement already satisfied: openpyxl in /g/coding/.venv/lib/python3.9/site-packages (3.1.2)\n",
      "Requirement already satisfied: et-xmlfile in /g/coding/.venv/lib/python3.9/site-packages (from openpyxl) (1.1.0)\n"
     ]
    },
    {
     "ename": "ModuleNotFoundError",
     "evalue": "No module named 'pyodide'",
     "output_type": "error",
     "traceback": [
      "\u001b[0;31m---------------------------------------------------------------------------\u001b[0m",
      "\u001b[0;31mModuleNotFoundError\u001b[0m                       Traceback (most recent call last)",
      "\u001b[1;32m/g/coding/dataScience/pandas/csv.ipynb Cell 1\u001b[0m line \u001b[0;36m7\n\u001b[1;32m      <a href='vscode-notebook-cell://wsl%2Bubuntu/g/coding/dataScience/pandas/csv.ipynb#W0sdnNjb2RlLXJlbW90ZQ%3D%3D?line=3'>4</a>\u001b[0m get_ipython()\u001b[39m.\u001b[39msystem(\u001b[39m'\u001b[39m\u001b[39mpip install xlrd\u001b[39m\u001b[39m'\u001b[39m)\n\u001b[1;32m      <a href='vscode-notebook-cell://wsl%2Bubuntu/g/coding/dataScience/pandas/csv.ipynb#W0sdnNjb2RlLXJlbW90ZQ%3D%3D?line=5'>6</a>\u001b[0m get_ipython()\u001b[39m.\u001b[39msystem(\u001b[39m'\u001b[39m\u001b[39mpip install openpyxl\u001b[39m\u001b[39m'\u001b[39m)\n\u001b[0;32m----> <a href='vscode-notebook-cell://wsl%2Bubuntu/g/coding/dataScience/pandas/csv.ipynb#W0sdnNjb2RlLXJlbW90ZQ%3D%3D?line=6'>7</a>\u001b[0m \u001b[39mimport\u001b[39;00m \u001b[39mmicropip\u001b[39;00m\n\u001b[1;32m      <a href='vscode-notebook-cell://wsl%2Bubuntu/g/coding/dataScience/pandas/csv.ipynb#W0sdnNjb2RlLXJlbW90ZQ%3D%3D?line=7'>8</a>\u001b[0m \u001b[39mawait\u001b[39;00m micropip\u001b[39m.\u001b[39minstall([\u001b[39m'\u001b[39m\u001b[39mxlrd\u001b[39m\u001b[39m'\u001b[39m,\u001b[39m'\u001b[39m\u001b[39mopenpyxl\u001b[39m\u001b[39m'\u001b[39m])\n",
      "File \u001b[0;32m/g/coding/.venv/lib/python3.9/site-packages/micropip/__init__.py:1\u001b[0m\n\u001b[0;32m----> 1\u001b[0m \u001b[39mfrom\u001b[39;00m \u001b[39m.\u001b[39;00m\u001b[39m_micropip\u001b[39;00m \u001b[39mimport\u001b[39;00m _list \u001b[39mas\u001b[39;00m \u001b[39mlist\u001b[39m\n\u001b[1;32m      2\u001b[0m \u001b[39mfrom\u001b[39;00m \u001b[39m.\u001b[39;00m\u001b[39m_micropip\u001b[39;00m \u001b[39mimport\u001b[39;00m freeze, install\n\u001b[1;32m      4\u001b[0m \u001b[39mtry\u001b[39;00m:\n",
      "File \u001b[0;32m/g/coding/.venv/lib/python3.9/site-packages/micropip/_micropip.py:22\u001b[0m\n\u001b[1;32m     20\u001b[0m \u001b[39mfrom\u001b[39;00m \u001b[39mpackaging\u001b[39;00m\u001b[39m.\u001b[39;00m\u001b[39mutils\u001b[39;00m \u001b[39mimport\u001b[39;00m canonicalize_name, parse_wheel_filename\n\u001b[1;32m     21\u001b[0m \u001b[39mfrom\u001b[39;00m \u001b[39mpackaging\u001b[39;00m\u001b[39m.\u001b[39;00m\u001b[39mversion\u001b[39;00m \u001b[39mimport\u001b[39;00m Version\n\u001b[0;32m---> 22\u001b[0m \u001b[39mfrom\u001b[39;00m \u001b[39mpyodide\u001b[39;00m\u001b[39m.\u001b[39;00m\u001b[39m_package_loader\u001b[39;00m \u001b[39mimport\u001b[39;00m get_dynlibs, wheel_dist_info_dir\n\u001b[1;32m     23\u001b[0m \u001b[39mfrom\u001b[39;00m \u001b[39mpyodide\u001b[39;00m\u001b[39m.\u001b[39;00m\u001b[39mffi\u001b[39;00m \u001b[39mimport\u001b[39;00m to_js\n\u001b[1;32m     25\u001b[0m \u001b[39mfrom\u001b[39;00m \u001b[39m.\u001b[39;00m\u001b[39m_compat\u001b[39;00m \u001b[39mimport\u001b[39;00m (\n\u001b[1;32m     26\u001b[0m     REPODATA_INFO,\n\u001b[1;32m     27\u001b[0m     REPODATA_PACKAGES,\n\u001b[0;32m   (...)\u001b[0m\n\u001b[1;32m     32\u001b[0m     loadPackage,\n\u001b[1;32m     33\u001b[0m )\n",
      "\u001b[0;31mModuleNotFoundError\u001b[0m: No module named 'pyodide'"
     ]
    }
   ],
   "source": [
    "# Dependency needed to install file \n",
    "\n",
    "# If running the notebook on your machine, else leave it commented\n",
    "!pip install xlrd\n",
    "\n",
    "!pip install openpyxl \n",
    "import micropip\n",
    "await micropip.install(['xlrd','openpyxl'])"
   ]
  },
  {
   "cell_type": "code",
   "execution_count": 1,
   "metadata": {},
   "outputs": [
    {
     "ename": "SyntaxError",
     "evalue": "invalid syntax (505858997.py, line 1)",
     "output_type": "error",
     "traceback": [
      "\u001b[0;36m  Cell \u001b[0;32mIn[1], line 1\u001b[0;36m\u001b[0m\n\u001b[0;31m    def add(x): return(x+x) add('1')\u001b[0m\n\u001b[0m                            ^\u001b[0m\n\u001b[0;31mSyntaxError\u001b[0m\u001b[0;31m:\u001b[0m invalid syntax\n"
     ]
    }
   ],
   "source": []
  }
 ],
 "metadata": {
  "kernelspec": {
   "display_name": ".venv",
   "language": "python",
   "name": "python3"
  },
  "language_info": {
   "codemirror_mode": {
    "name": "ipython",
    "version": 3
   },
   "file_extension": ".py",
   "mimetype": "text/x-python",
   "name": "python",
   "nbconvert_exporter": "python",
   "pygments_lexer": "ipython3",
   "version": "3.9.5"
  }
 },
 "nbformat": 4,
 "nbformat_minor": 2
}
