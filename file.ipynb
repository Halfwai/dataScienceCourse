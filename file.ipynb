{
 "cells": [
  {
   "cell_type": "code",
   "execution_count": null,
   "metadata": {},
   "outputs": [],
   "source": [
    "def cleanFiles(currentMem, exMem):\n",
    "    # TODO: Open the currentMem file as in r+ mode\n",
    "    with open(currentMem, \"r+\") as readFile:\n",
    "        # Open the exMem file in a+ mode\n",
    "        with open(exMem, \"a+\") as writeFile:\n",
    "            #Read each member in the currentMem (1 member per row) file into a list.\n",
    "            members = []\n",
    "            data = readFile.readlines()\n",
    "            for x, line in enumerate(data):\n",
    "                members.append(line)\n",
    "            # iterate through the members and create a new list of the innactive members\n",
    "            # inactiveMembers = [member for member in members if (\"no\" in member)]\n",
    "            # Go to the beginning of the currentMem file\n",
    "            readFile.seek(0)\n",
    "            # TODO: Iterate through the members list.\n",
    "            for member in members:\n",
    "                # If a member is inactive, add them to exMem, otherwise write them into currentMem\n",
    "                if \"no\" in member:\n",
    "                    writeFile.write(member)\n",
    "                else:\n",
    "                    readFile.write(member)\n",
    "            readFile.truncate()\n"
   ]
  },
  {
   "cell_type": "code",
   "execution_count": 2,
   "metadata": {},
   "outputs": [
    {
     "data": {
      "text/plain": [
       "array([[2, 2],\n",
       "       [2, 2]])"
      ]
     },
     "execution_count": 2,
     "metadata": {},
     "output_type": "execute_result"
    }
   ],
   "source": [
    "import numpy as np\n",
    "\n",
    "X=np.array([[1,0],[0,1]])\n",
    "Y=np.array([[2,2],[2,2]])\n",
    "Z=np.dot(X,Y)\n",
    "Z"
   ]
  }
 ],
 "metadata": {
  "kernelspec": {
   "display_name": ".venv",
   "language": "python",
   "name": "python3"
  },
  "language_info": {
   "codemirror_mode": {
    "name": "ipython",
    "version": 3
   },
   "file_extension": ".py",
   "mimetype": "text/x-python",
   "name": "python",
   "nbconvert_exporter": "python",
   "pygments_lexer": "ipython3",
   "version": "3.9.5"
  }
 },
 "nbformat": 4,
 "nbformat_minor": 2
}
